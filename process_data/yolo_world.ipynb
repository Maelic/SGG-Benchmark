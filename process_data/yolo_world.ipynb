{
 "cells": [
  {
   "cell_type": "markdown",
   "metadata": {},
   "source": [
    "## YOLO-World for Visual Genome"
   ]
  },
  {
   "cell_type": "code",
   "execution_count": null,
   "metadata": {},
   "outputs": [],
   "source": [
    "!pip install git+https://github.com/ultralytics/CLIP.git # install CLIP for the text encoder"
   ]
  },
  {
   "cell_type": "code",
   "execution_count": null,
   "metadata": {},
   "outputs": [],
   "source": [
    "# YOLOE\n",
    "from ultralytics import YOLO, YOLOE\n",
    "import json\n",
    "\n",
    "# Initialize a YOLOE model\n",
    "model = YOLO(\"yoloe-11l.yaml\").load(\"yoloe-11l-seg.pt\")  # or select yoloe-11s/m-seg.pt for different sizes\n",
    "\n",
    "model.eval()\n",
    "model.ckpt = {}\n",
    "\n",
    "# Set text prompt to detect person and bus. You only need to do this once after you load the model.\n",
    "classes=\"../datasets/IndoorVG/VG-SGG-dicts.json\"\n",
    "# Load the custom classes\n",
    "with open(classes) as f:\n",
    "    data = json.load(f)\n",
    "names = list(data['idx_to_label'].values())\n",
    "\n",
    "print(\"YoloE will be setup for the following classes: \", names)\n",
    "\n",
    "model.set_classes(names, model.get_text_pe(names))\n",
    "\n",
    "model.save(\"custom_yoloe11l.pt\")"
   ]
  },
  {
   "cell_type": "code",
   "execution_count": 3,
   "metadata": {},
   "outputs": [
    {
     "name": "stdout",
     "output_type": "stream",
     "text": [
      "Yolo-World will be setup for the following classes:  ['airplane', 'animal', 'arm', 'bag', 'banana', 'basket', 'beach', 'bear', 'bed', 'bench', 'bike', 'bird', 'board', 'boat', 'book', 'boot', 'bottle', 'bowl', 'box', 'boy', 'branch', 'building', 'bus', 'cabinet', 'cap', 'car', 'cat', 'chair', 'child', 'clock', 'coat', 'counter', 'cow', 'cup', 'curtain', 'desk', 'dog', 'door', 'drawer', 'ear', 'elephant', 'engine', 'eye', 'face', 'fence', 'finger', 'flag', 'flower', 'food', 'fork', 'fruit', 'giraffe', 'girl', 'glass', 'glove', 'guy', 'hair', 'hand', 'handle', 'hat', 'head', 'helmet', 'hill', 'horse', 'house', 'jacket', 'jean', 'kid', 'kite', 'lady', 'lamp', 'laptop', 'leaf', 'leg', 'letter', 'light', 'logo', 'man', 'men', 'motorcycle', 'mountain', 'mouth', 'neck', 'nose', 'number', 'orange', 'pant', 'paper', 'paw', 'people', 'person', 'phone', 'pillow', 'pizza', 'plane', 'plant', 'plate', 'player', 'pole', 'post', 'pot', 'racket', 'railing', 'rock', 'roof', 'room', 'screen', 'seat', 'sheep', 'shelf', 'shirt', 'shoe', 'short', 'sidewalk', 'sign', 'sink', 'skateboard', 'ski', 'skier', 'sneaker', 'snow', 'sock', 'stand', 'street', 'surfboard', 'table', 'tail', 'tie', 'tile', 'tire', 'toilet', 'towel', 'tower', 'track', 'train', 'tree', 'truck', 'trunk', 'umbrella', 'vase', 'vegetable', 'vehicle', 'wave', 'wheel', 'window', 'windshield', 'wing', 'wire', 'woman', 'zebra']\n"
     ]
    }
   ],
   "source": [
    "# Taken from https://docs.ultralytics.com/models/yolo-world/\n",
    "# This script is used to save the model with the defined offline vocabulary\n",
    "\n",
    "from ultralytics import YOLOWorld\n",
    "import json\n",
    "\n",
    "model = YOLOWorld(\"yolov8x-worldv2.pt\")  # or select yolov8m/l-world.pt or another variant\n",
    "\n",
    "classes=\"../datasets/VG150/VG-SGG-dicts-with-attri.json\"\n",
    "# Load the custom classes\n",
    "with open(classes) as f:\n",
    "    data = json.load(f)\n",
    "nc = list(data['idx_to_label'].values())\n",
    "\n",
    "print(\"Yolo-World will be setup for the following classes: \", nc)\n",
    "# Define custom classes\n",
    "model.set_classes(nc)\n",
    "\n",
    "# Save the model with the defined offline vocabulary\n",
    "model.save(\"custom_yolov8x_vg150.pt\")"
   ]
  }
 ],
 "metadata": {
  "kernelspec": {
   "display_name": "sgg",
   "language": "python",
   "name": "python3"
  },
  "language_info": {
   "codemirror_mode": {
    "name": "ipython",
    "version": 3
   },
   "file_extension": ".py",
   "mimetype": "text/x-python",
   "name": "python",
   "nbconvert_exporter": "python",
   "pygments_lexer": "ipython3",
   "version": "3.10.0"
  }
 },
 "nbformat": 4,
 "nbformat_minor": 2
}
