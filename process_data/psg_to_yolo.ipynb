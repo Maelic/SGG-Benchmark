{
 "cells": [
  {
   "cell_type": "markdown",
   "id": "504634c4",
   "metadata": {},
   "source": [
    "# SGG YOLO CONVERTER"
   ]
  },
  {
   "cell_type": "markdown",
   "id": "5ce5e327",
   "metadata": {},
   "source": [
    "### This script can convert any SGG annotations file in COCO format (PSG dataset) to YOLO format for object detection training"
   ]
  },
  {
   "cell_type": "code",
   "execution_count": null,
   "id": "0ab662ce",
   "metadata": {},
   "outputs": [],
   "source": [
    "import os\n",
    "import shutil\n",
    "import random\n",
    "import h5py\n",
    "import json\n",
    "from collections import Counter\n",
    "from tqdm import tqdm\n",
    "\n",
    "data = json.load(open('./datasets/psg/psg.json'))\n",
    "\n",
    "img_path = '/home/maelic/Documents/Datasets/VG/VG_100K'\n",
    "img_data = \"./datasets/vg/image_data.json\"\n",
    "img_data = json.load(open(img_data))\n",
    "\n",
    "coco_path = \"/home/maelic/Documents/Datasets/COCO/\""
   ]
  },
  {
   "cell_type": "code",
   "execution_count": 10,
   "id": "9d0b5c1f",
   "metadata": {},
   "outputs": [
    {
     "name": "stderr",
     "output_type": "stream",
     "text": [
      "100%|██████████| 48749/48749 [00:51<00:00, 942.29it/s] \n"
     ]
    }
   ],
   "source": [
    "all_img_path = [data['data'][i]['file_name'] for i in range(len(data['data']))]\n",
    "dest_folder = \"/home/maelic/Documents/Datasets/COCO/PSG_split/\"\n",
    "# move images to new folder\n",
    "for img in tqdm(all_img_path):\n",
    "    img_path = os.path.join(coco_path, img)\n",
    "    dest_path = os.path.join(dest_folder, img)\n",
    "    # if folder of destination does not exist, create it\n",
    "    if not os.path.exists(os.path.dirname(dest_path)):\n",
    "        os.makedirs(os.path.dirname(dest_path))\n",
    "    shutil.copy(img_path, dest_path)\n"
   ]
  },
  {
   "cell_type": "code",
   "execution_count": 30,
   "id": "1e8ca467",
   "metadata": {},
   "outputs": [
    {
     "name": "stdout",
     "output_type": "stream",
     "text": [
      "(334, 500, 3)\n"
     ]
    }
   ],
   "source": [
    "img_prefix = \"/home/maelic/Documents/Datasets/VG/VG_100K\"\n",
    "img_path = img_prefix + '/2370584.jpg'\n",
    "\n",
    "import cv2\n",
    "# img size\n",
    "img = cv2.imread(img_path)\n",
    "print(img.shape)"
   ]
  },
  {
   "cell_type": "code",
   "execution_count": 14,
   "id": "3cee7bef",
   "metadata": {},
   "outputs": [],
   "source": [
    "object_to_idx = {}\n",
    "THING_CLASSES = data['thing_classes']\n",
    "STUFF_CLASSES = data['stuff_classes']\n",
    "CLASSES = THING_CLASSES + STUFF_CLASSES\n",
    "for i, cls in enumerate(CLASSES):\n",
    "    object_to_idx[cls] = str(i)\n",
    "\n",
    "OUT_PATH = \"/home/maelic/Documents/Datasets/VG/PSG/YOLO_anno/\"\n",
    "if not os.path.exists(OUT_PATH):\n",
    "    os.makedirs(OUT_PATH)\n",
    "\n",
    "with open(os.path.join(OUT_PATH, 'classes.txt'), 'w') as f:\n",
    "    for key,v in object_to_idx.items():\n",
    "        f.write(key + '\\n')"
   ]
  },
  {
   "cell_type": "code",
   "execution_count": 21,
   "id": "3789b4df",
   "metadata": {},
   "outputs": [
    {
     "name": "stderr",
     "output_type": "stream",
     "text": [
      "100%|██████████| 46697/46697 [00:24<00:00, 1915.21it/s]\n"
     ]
    }
   ],
   "source": [
    "dest_folder = os.path.join(OUT_PATH, 'annotations')\n",
    "image_dest_folder = os.path.join(OUT_PATH, 'images_all')\n",
    "\n",
    "import numpy as np\n",
    "\n",
    "if not os.path.exists(dest_folder):\n",
    "    os.makedirs(dest_folder)\n",
    "if not os.path.exists(image_dest_folder):\n",
    "    os.makedirs(image_dest_folder)\n",
    "\n",
    "for idx in tqdm(range(len(data['data']))):\n",
    "    image_data = data['data']\n",
    "    img_width = image_data[idx]['width']\n",
    "    img_height = image_data[idx]['height']\n",
    "    image_id = image_data[idx]['image_id']\n",
    "\n",
    "    anno = image_data[idx]['annotations']\n",
    "\n",
    "    for obj in anno:\n",
    "        obj_cat = obj['category_id']\n",
    "        assert 0 <= obj_cat < 133\n",
    "\n",
    "        box = obj['bbox']\n",
    "        # convert to yolo format\n",
    "        x_center = (box[0] + box[2] / 2) / img_width\n",
    "        y_center = (box[1] + box[3] / 2) / img_height\n",
    "        w = box[2] / img_width\n",
    "        h = box[3] / img_height\n",
    "\n",
    "        box = [x_center, y_center, w, h]\n",
    "\n",
    "        # clip to [0, 1]\n",
    "        box = np.clip(box, 0, 1)\n",
    "\n",
    "        with open(os.path.join(dest_folder, str(image_id) + '.txt'), 'a') as f:\n",
    "            f.write(str(obj_cat) + ' ' + str(box[0]) + ' ' + str(box[1]) + ' ' + str(box[2]) + ' ' + str(box[3])+'\\n')\n",
    "    \n",
    "    # copy image to dest folder\n",
    "    shutil.copyfile(os.path.join(img_path, str(image_id)+'.jpg'), os.path.join(image_dest_folder, str(image_id)+'.jpg'))"
   ]
  },
  {
   "cell_type": "markdown",
   "id": "e841b99c",
   "metadata": {},
   "source": [
    "### With val split"
   ]
  },
  {
   "cell_type": "code",
   "execution_count": 10,
   "id": "f2247192",
   "metadata": {},
   "outputs": [],
   "source": [
    "from sklearn.model_selection import train_test_split\n",
    "\n",
    "base_path = OUT_PATH\n",
    "dest_folder = os.path.join(base_path,'annotations')\n",
    "image_dest_folder = os.path.join(base_path,'images_all')\n",
    "\n",
    "if not os.path.exists(dest_folder):\n",
    "    os.makedirs(dest_folder)\n",
    "\n",
    "if not os.path.exists(image_dest_folder):\n",
    "    os.makedirs(image_dest_folder)\n",
    "\n",
    "images = [os.path.join(image_dest_folder, x) for x in os.listdir(image_dest_folder)]\n",
    "annotations = [os.path.join(dest_folder, x) for x in os.listdir(dest_folder) if x[-3:] == \"txt\"]\n",
    "\n",
    "images.sort()\n",
    "annotations.sort()\n",
    "train_images, val_images, train_annotations, val_annotations = train_test_split(images, annotations, test_size = 0.3, random_state = 1)\n",
    "val_images, test_images, val_annotations, test_annotations = train_test_split(val_images, val_annotations, test_size = 0.5, random_state = 1)\n",
    "\n",
    "root_path = 'images/'\n",
    "folders = [base_path+'/train',base_path+'/test',base_path+'/val']\n",
    "for folder in folders:\n",
    "    os.makedirs(os.path.join(folder,root_path))\n",
    "    \n",
    "root_path = 'labels/'\n",
    "for folder in folders:\n",
    "    os.makedirs(os.path.join(folder,root_path))    \n",
    "\n",
    "def move_files_to_folder(list_of_files, destination_folder):\n",
    "    for f in list_of_files:\n",
    "        try:\n",
    "            shutil.move(f, destination_folder)\n",
    "        except:\n",
    "            print(f)\n",
    "            assert False\n",
    "\n",
    "move_files_to_folder(train_images, base_path+'/train/images/')\n",
    "move_files_to_folder(val_images, base_path+'/val/images/')\n",
    "move_files_to_folder(test_images, base_path+'/test/images/')\n",
    "move_files_to_folder(train_annotations, base_path+'/train/labels/')\n",
    "move_files_to_folder(val_annotations, base_path+'/val/labels/')\n",
    "move_files_to_folder(test_annotations, base_path+'/test/labels/')"
   ]
  },
  {
   "cell_type": "markdown",
   "id": "334055f8",
   "metadata": {},
   "source": [
    "### No val split"
   ]
  },
  {
   "cell_type": "code",
   "execution_count": 22,
   "id": "016cb17c",
   "metadata": {},
   "outputs": [],
   "source": [
    "from sklearn.model_selection import train_test_split\n",
    "\n",
    "base_path = OUT_PATH\n",
    "dest_folder = os.path.join(base_path,'annotations')\n",
    "image_dest_folder = os.path.join(base_path,'images_all')\n",
    "\n",
    "if not os.path.exists(dest_folder):\n",
    "    os.makedirs(dest_folder)\n",
    "\n",
    "if not os.path.exists(image_dest_folder):\n",
    "    os.makedirs(image_dest_folder)\n",
    "\n",
    "images = [os.path.join(image_dest_folder, x) for x in os.listdir(image_dest_folder)]\n",
    "annotations = [os.path.join(dest_folder, x) for x in os.listdir(dest_folder) if x[-3:] == \"txt\"]\n",
    "\n",
    "images.sort()\n",
    "annotations.sort()\n",
    "train_images, test_images, train_annotations, test_annotations = train_test_split(images, annotations, test_size = 0.2, random_state = 1)\n",
    "\n",
    "root_path = 'images/'\n",
    "folders = [base_path+'/train',base_path+'/val']\n",
    "for folder in folders:\n",
    "    os.makedirs(os.path.join(folder,root_path))\n",
    "    \n",
    "root_path = 'labels/'\n",
    "for folder in folders:\n",
    "    os.makedirs(os.path.join(folder,root_path))    \n",
    "\n",
    "def move_files_to_folder(list_of_files, destination_folder):\n",
    "    for f in list_of_files:\n",
    "        try:\n",
    "            shutil.move(f, destination_folder)\n",
    "        except:\n",
    "            print(f)\n",
    "            assert False\n",
    "\n",
    "move_files_to_folder(train_images, base_path+'/train/images/')\n",
    "move_files_to_folder(test_images, base_path+'/val/images/')\n",
    "move_files_to_folder(train_annotations, base_path+'/train/labels/')\n",
    "move_files_to_folder(test_annotations, base_path+'/val/labels/')"
   ]
  },
  {
   "cell_type": "code",
   "execution_count": 11,
   "id": "8e2aeb0d",
   "metadata": {},
   "outputs": [],
   "source": [
    "# write the yaml file\n",
    "classes = object_to_idx.keys()\n",
    "\n",
    "train_path = base_path+'train/'\n",
    "val_path = base_path+'val/'\n",
    "test_path = base_path+'test/'\n",
    "\n",
    "n_classes = len(classes)\n",
    "\n",
    "with open(base_path+'/train.yaml', 'w') as f:\n",
    "    f.write('train: '+train_path+'\\n')\n",
    "    f.write('val: '+val_path+'\\n')\n",
    "    f.write('test: '+test_path+'\\n')\n",
    "    f.write('nc: '+str(n_classes)+'\\n')\n",
    "    f.write('names: '+str(list(classes)))"
   ]
  }
 ],
 "metadata": {
  "kernelspec": {
   "display_name": "phd",
   "language": "python",
   "name": "python3"
  },
  "language_info": {
   "codemirror_mode": {
    "name": "ipython",
    "version": 3
   },
   "file_extension": ".py",
   "mimetype": "text/x-python",
   "name": "python",
   "nbconvert_exporter": "python",
   "pygments_lexer": "ipython3",
   "version": "3.11.5"
  }
 },
 "nbformat": 4,
 "nbformat_minor": 5
}
