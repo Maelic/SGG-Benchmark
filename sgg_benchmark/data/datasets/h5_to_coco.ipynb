{
 "cells": [
  {
   "cell_type": "code",
   "execution_count": null,
   "metadata": {},
   "outputs": [],
   "source": [
    "# create output files\n",
    "import os\n",
    "import h5py\n",
    "import json\n",
    "from tqdm import tqdm\n",
    "\n",
    "import math\n",
    "\n",
    "base_path = \"./datasets/IndoorVG_4\"\n",
    "coco_path = os.path.join(base_path, \"coco_anno\")\n",
    "rel_data = os.path.join(coco_path, \"rel.json\")\n",
    "test_data = os.path.join(coco_path, \"test.json\")\n",
    "train_data = os.path.join(coco_path, \"train.json\")\n",
    "val_data = os.path.join(coco_path, \"val.json\")\n",
    "\n",
    "input_h5 = os.path.join(base_path, \"VG-SGG-augmented-penet-cat.h5\")\n",
    "input_h5 = h5py.File(input_h5, \"r\")\n",
    "cat_path = os.path.join(base_path, \"VG-SGG-dicts.json\")\n",
    "categories = json.load(open(cat_path, \"r\"))\n",
    "image_data = \"./datasets/VG150/image_data.json\"\n",
    "image_data = json.load(open(image_data, \"r\"))"
   ]
  },
  {
   "cell_type": "code",
   "execution_count": 19,
   "metadata": {},
   "outputs": [
    {
     "name": "stdout",
     "output_type": "stream",
     "text": [
      "9\n"
     ]
    }
   ],
   "source": [
    "print(im_to_first_box[1])"
   ]
  },
  {
   "cell_type": "code",
   "execution_count": 17,
   "metadata": {},
   "outputs": [
    {
     "name": "stdout",
     "output_type": "stream",
     "text": [
      "112804\n"
     ]
    },
    {
     "name": "stderr",
     "output_type": "stream",
     "text": [
      "100%|██████████| 108073/108073 [00:16<00:00, 6395.96it/s]\n"
     ]
    }
   ],
   "source": [
    "# Get box information\n",
    "all_labels = input_h5['labels'][:, 0]\n",
    "#all_attributes = roi_h5['attributes'][:, :]\n",
    "BOX_SIZE= 1024\n",
    "all_boxes = input_h5['boxes_{}'.format(BOX_SIZE)][:]  # cx,cy,w,h\n",
    "\n",
    "# convert from xc, yc, w, h to x1, y1, x2, y2\n",
    "# all_boxes[:, :2] = all_boxes[:, :2] - all_boxes[:, 2:] / 2\n",
    "# all_boxes[:, 2:] = all_boxes[:, :2] + all_boxes[:, 2:]\n",
    "\n",
    "im_to_first_box = input_h5['img_to_first_box']\n",
    "im_to_last_box = input_h5['img_to_last_box']\n",
    "im_to_first_rel = input_h5['img_to_first_rel']\n",
    "im_to_last_rel = input_h5['img_to_last_rel']\n",
    "\n",
    "# load relation labels\n",
    "_relations = input_h5['relationships'][:]\n",
    "_relation_predicates = input_h5['predicates'][:, 0]\n",
    "\n",
    "print(len(_relation_predicates))\n",
    "\n",
    "test_dict = {'images': [], 'annotations': [], 'categories': []}\n",
    "train_dict = {'images': [], 'annotations': [], 'categories': []}\n",
    "val_dict = {'images': [], 'annotations': [], 'categories': []}\n",
    "\n",
    "rel_dict = {'train': {}, 'val': {}, 'test': {}, 'rel_categories': []}\n",
    "\n",
    "for i in tqdm(range(len(im_to_first_box))):\n",
    "    i_obj_start = im_to_first_box[i]\n",
    "    i_obj_end = im_to_last_box[i]\n",
    "    i_rel_start = im_to_first_rel[i]\n",
    "    i_rel_end = im_to_last_rel[i]\n",
    "\n",
    "    img_name = '{}.jpg'.format(image_data[i]['image_id'])\n",
    "    img_id =image_data[i]['image_id']\n",
    "\n",
    "    boxes_i = all_boxes[i_obj_start : i_obj_end + 1, :]\n",
    "    gt_classes_i = all_labels[i_obj_start : i_obj_end + 1]\n",
    "\n",
    "    split_i = input_h5['split_rel'][i]\n",
    "\n",
    "    if split_i == 0:\n",
    "        data_dict = train_dict\n",
    "        rels = rel_dict['train']\n",
    "    elif split_i == 1:\n",
    "        data_dict = val_dict\n",
    "        rels = rel_dict['val']\n",
    "    else:\n",
    "        data_dict = test_dict\n",
    "        rels = rel_dict['test']\n",
    "\n",
    "    for j in range(i_obj_start, i_obj_end + 1):\n",
    "        box = all_boxes[j]\n",
    "        # reshape box to img size using BOX_SIZE\n",
    "        img_w, img_h = image_data[i]['width'], image_data[i]['height']\n",
    "        box = box / BOX_SIZE * max(img_w, img_h)\n",
    "        # to int\n",
    "        box_orig = box\n",
    "        # cx, cy to x1, y1\n",
    "        box[0] = min(max(0, box[0] - (box[2] // 2)), img_w)\n",
    "        box[1] = min(max(0, box[1] - (box[3] // 2)), img_h)\n",
    "\n",
    "        if box[0] + box[2] > img_w:\n",
    "            box[2] = img_w - box[0]\n",
    "\n",
    "        if box[1] + box[3] > img_h:\n",
    "            box[3] = img_h - box[1]\n",
    "        box = box.astype(int)\n",
    "\n",
    "        # verify that all coordinates are within the image size\n",
    "        assert box[0] >= 0 & box[1] >= 0 & box[0] + box[2] <= img_w & box[1] + box[3] <= img_h, \"Box coordinates are not within the image size : {}, width: {}, height: {} {} {}\".format(box, img_w, img_h, img_name, box_orig)\n",
    "\n",
    "        area = int(box[2] * box[3])\n",
    "        data_dict['annotations'].append({'segmentation': [],\n",
    "                                            'area': area,\n",
    "                                            'iscrowd': 0,\n",
    "                                            'image_id': img_id,\n",
    "                                            'bbox': box.tolist(),\n",
    "                                            'category_id': int(all_labels[j]),\n",
    "                                            'id': j})\n",
    "        \n",
    "    rels[img_id] = []\n",
    "    for j in range(i_rel_start, i_rel_end + 1):\n",
    "        rel = _relations[j]\n",
    "        rel_id = j\n",
    "        subj_id = rel[0]-i_obj_start\n",
    "        obj_id = rel[1]-i_obj_start\n",
    "        rel_label = _relation_predicates[j]\n",
    "\n",
    "        rels[img_id].append([int(subj_id), int(obj_id), int(rel_label)])\n",
    "        \n",
    "    data_dict['images'].append({'file_name': img_name,\n",
    "                                'height': image_data[i]['height'],\n",
    "                                'width': image_data[i]['width'],\n",
    "                                'id': image_data[i]['image_id']})\n",
    "    \n",
    "# get rel categories\n",
    "pred_labels = categories['predicate_to_idx']\n",
    "rel_dict['rel_categories'] = ['__background__']\n",
    "for pred, pred_id in pred_labels.items():\n",
    "    rel_dict['rel_categories'].append(pred)\n",
    "\n",
    "obj_labels = categories['label_to_idx']\n",
    "for obj, obj_id in obj_labels.items():\n",
    "    train_dict['categories'].append({'supercategory': obj,\n",
    "                                        'id': obj_id,\n",
    "                                        'name': obj})\n",
    "    test_dict['categories'].append({'supercategory': obj,\n",
    "                                        'id': obj_id,\n",
    "                                        'name': obj})   \n",
    "    val_dict['categories'].append({'supercategory': obj,\n",
    "                                        'id': obj_id,\n",
    "                                        'name': obj})"
   ]
  },
  {
   "cell_type": "code",
   "execution_count": 22,
   "metadata": {},
   "outputs": [],
   "source": [
    "# save to json\n",
    "with open(rel_data, 'w') as f:\n",
    "    json.dump(rel_dict, f)\n",
    "\n",
    "with open(test_data, 'w') as f:\n",
    "    json.dump(test_dict, f)\n",
    "\n",
    "with open(train_data, 'w') as f:\n",
    "    json.dump(train_dict, f)\n",
    "\n",
    "with open(val_data, 'w') as f:\n",
    "    json.dump(val_dict, f)\n"
   ]
  },
  {
   "cell_type": "code",
   "execution_count": 21,
   "metadata": {},
   "outputs": [
    {
     "name": "stdout",
     "output_type": "stream",
     "text": [
      "dict_keys(['train', 'val', 'test', 'rel_categories'])\n",
      "train\n",
      "<class 'dict'>\n",
      "[[1, 0, 20], [11, 8, 50], [12, 10, 31], [13, 5, 20], [13, 7, 21]]\n",
      "val\n",
      "<class 'dict'>\n"
     ]
    },
    {
     "ename": "KeyError",
     "evalue": "'498334'",
     "output_type": "error",
     "traceback": [
      "\u001b[0;31m---------------------------------------------------------------------------\u001b[0m",
      "\u001b[0;31mKeyError\u001b[0m                                  Traceback (most recent call last)",
      "Cell \u001b[0;32mIn[21], line 11\u001b[0m\n\u001b[1;32m      9\u001b[0m \u001b[38;5;28mprint\u001b[39m(k)\n\u001b[1;32m     10\u001b[0m \u001b[38;5;28mprint\u001b[39m(\u001b[38;5;28mtype\u001b[39m(data[k]))\n\u001b[0;32m---> 11\u001b[0m \u001b[38;5;28mprint\u001b[39m(\u001b[43mdata\u001b[49m\u001b[43m[\u001b[49m\u001b[43mk\u001b[49m\u001b[43m]\u001b[49m\u001b[43m[\u001b[49m\u001b[38;5;124;43m'\u001b[39;49m\u001b[38;5;124;43m498334\u001b[39;49m\u001b[38;5;124;43m'\u001b[39;49m\u001b[43m]\u001b[49m)\n\u001b[1;32m     12\u001b[0m \u001b[38;5;66;03m# for q in data[k]:\u001b[39;00m\n\u001b[1;32m     13\u001b[0m \u001b[38;5;66;03m#     print(type(data[k][q]))\u001b[39;00m\n\u001b[1;32m     14\u001b[0m \u001b[38;5;66;03m#     # # print(data[k][q])\u001b[39;00m\n\u001b[1;32m     15\u001b[0m \u001b[38;5;66;03m#     break\u001b[39;00m\n\u001b[1;32m     16\u001b[0m \n\u001b[1;32m     17\u001b[0m \u001b[38;5;66;03m# print(len(data[k]))\u001b[39;00m\n",
      "\u001b[0;31mKeyError\u001b[0m: '498334'"
     ]
    }
   ],
   "source": [
    "file =\"/home/maelic/Documents/Datasets/VG/annotations/rel.json\"\n",
    "\n",
    "import json\n",
    "with open(file) as f:\n",
    "    data = json.load(f)\n",
    "\n",
    "print(data.keys())\n",
    "for k in data.keys():\n",
    "    print(k)\n",
    "    print(type(data[k]))\n",
    "    print(data[k]['498334'])\n",
    "    # for q in data[k]:\n",
    "    #     print(type(data[k][q]))\n",
    "    #     # # print(data[k][q])\n",
    "    #     break\n",
    "\n",
    "    # print(len(data[k]))"
   ]
  },
  {
   "cell_type": "code",
   "execution_count": null,
   "metadata": {},
   "outputs": [],
   "source": []
  }
 ],
 "metadata": {
  "kernelspec": {
   "display_name": "phd",
   "language": "python",
   "name": "python3"
  },
  "language_info": {
   "codemirror_mode": {
    "name": "ipython",
    "version": 3
   },
   "file_extension": ".py",
   "mimetype": "text/x-python",
   "name": "python",
   "nbconvert_exporter": "python",
   "pygments_lexer": "ipython3",
   "version": "3.11.5"
  }
 },
 "nbformat": 4,
 "nbformat_minor": 2
}
